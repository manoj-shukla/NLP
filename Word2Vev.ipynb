{
  "nbformat": 4,
  "nbformat_minor": 0,
  "metadata": {
    "colab": {
      "name": "Word2Vev",
      "provenance": [],
      "authorship_tag": "ABX9TyPlFKsH12kNAz+XvJ7BwdB3",
      "include_colab_link": true
    },
    "kernelspec": {
      "name": "python3",
      "display_name": "Python 3"
    }
  },
  "cells": [
    {
      "cell_type": "markdown",
      "metadata": {
        "id": "view-in-github",
        "colab_type": "text"
      },
      "source": [
        "<a href=\"https://colab.research.google.com/github/manoj-shukla/NLP/blob/master/Word2Vev.ipynb\" target=\"_parent\"><img src=\"https://colab.research.google.com/assets/colab-badge.svg\" alt=\"Open In Colab\"/></a>"
      ]
    },
    {
      "cell_type": "code",
      "metadata": {
        "id": "Fh9TeuTdyTZ8",
        "colab_type": "code",
        "outputId": "0977afc0-6f92-4b7f-c888-b482b9c28e56",
        "colab": {
          "base_uri": "https://localhost:8080/",
          "height": 306
        }
      },
      "source": [
        "!pip install gensim"
      ],
      "execution_count": 68,
      "outputs": [
        {
          "output_type": "stream",
          "text": [
            "Requirement already satisfied: gensim in /usr/local/lib/python3.6/dist-packages (3.6.0)\n",
            "Requirement already satisfied: scipy>=0.18.1 in /usr/local/lib/python3.6/dist-packages (from gensim) (1.4.1)\n",
            "Requirement already satisfied: smart-open>=1.2.1 in /usr/local/lib/python3.6/dist-packages (from gensim) (2.0.0)\n",
            "Requirement already satisfied: numpy>=1.11.3 in /usr/local/lib/python3.6/dist-packages (from gensim) (1.18.4)\n",
            "Requirement already satisfied: six>=1.5.0 in /usr/local/lib/python3.6/dist-packages (from gensim) (1.12.0)\n",
            "Requirement already satisfied: boto3 in /usr/local/lib/python3.6/dist-packages (from smart-open>=1.2.1->gensim) (1.13.19)\n",
            "Requirement already satisfied: requests in /usr/local/lib/python3.6/dist-packages (from smart-open>=1.2.1->gensim) (2.23.0)\n",
            "Requirement already satisfied: boto in /usr/local/lib/python3.6/dist-packages (from smart-open>=1.2.1->gensim) (2.49.0)\n",
            "Requirement already satisfied: s3transfer<0.4.0,>=0.3.0 in /usr/local/lib/python3.6/dist-packages (from boto3->smart-open>=1.2.1->gensim) (0.3.3)\n",
            "Requirement already satisfied: jmespath<1.0.0,>=0.7.1 in /usr/local/lib/python3.6/dist-packages (from boto3->smart-open>=1.2.1->gensim) (0.10.0)\n",
            "Requirement already satisfied: botocore<1.17.0,>=1.16.19 in /usr/local/lib/python3.6/dist-packages (from boto3->smart-open>=1.2.1->gensim) (1.16.19)\n",
            "Requirement already satisfied: chardet<4,>=3.0.2 in /usr/local/lib/python3.6/dist-packages (from requests->smart-open>=1.2.1->gensim) (3.0.4)\n",
            "Requirement already satisfied: urllib3!=1.25.0,!=1.25.1,<1.26,>=1.21.1 in /usr/local/lib/python3.6/dist-packages (from requests->smart-open>=1.2.1->gensim) (1.24.3)\n",
            "Requirement already satisfied: certifi>=2017.4.17 in /usr/local/lib/python3.6/dist-packages (from requests->smart-open>=1.2.1->gensim) (2020.4.5.1)\n",
            "Requirement already satisfied: idna<3,>=2.5 in /usr/local/lib/python3.6/dist-packages (from requests->smart-open>=1.2.1->gensim) (2.9)\n",
            "Requirement already satisfied: python-dateutil<3.0.0,>=2.1 in /usr/local/lib/python3.6/dist-packages (from botocore<1.17.0,>=1.16.19->boto3->smart-open>=1.2.1->gensim) (2.8.1)\n",
            "Requirement already satisfied: docutils<0.16,>=0.10 in /usr/local/lib/python3.6/dist-packages (from botocore<1.17.0,>=1.16.19->boto3->smart-open>=1.2.1->gensim) (0.15.2)\n"
          ],
          "name": "stdout"
        }
      ]
    },
    {
      "cell_type": "code",
      "metadata": {
        "id": "0sY0M_19yWda",
        "colab_type": "code",
        "outputId": "3cb2ece3-9302-43ed-9979-71ffaf695e8e",
        "colab": {
          "base_uri": "https://localhost:8080/",
          "height": 102
        }
      },
      "source": [
        "import nltk\n",
        "import re\n",
        "nltk.download('punkt')\n",
        "nltk.download('stopwords')"
      ],
      "execution_count": 69,
      "outputs": [
        {
          "output_type": "stream",
          "text": [
            "[nltk_data] Downloading package punkt to /root/nltk_data...\n",
            "[nltk_data]   Package punkt is already up-to-date!\n",
            "[nltk_data] Downloading package stopwords to /root/nltk_data...\n",
            "[nltk_data]   Package stopwords is already up-to-date!\n"
          ],
          "name": "stdout"
        },
        {
          "output_type": "execute_result",
          "data": {
            "text/plain": [
              "True"
            ]
          },
          "metadata": {
            "tags": []
          },
          "execution_count": 69
        }
      ]
    },
    {
      "cell_type": "code",
      "metadata": {
        "id": "u-yhIXlQyYwS",
        "colab_type": "code",
        "colab": {}
      },
      "source": [
        "from gensim.models import Word2Vec\n",
        "from nltk.corpus import stopwords"
      ],
      "execution_count": 0,
      "outputs": []
    },
    {
      "cell_type": "code",
      "metadata": {
        "id": "LfQn3reCyt7Q",
        "colab_type": "code",
        "colab": {}
      },
      "source": [
        "paragraph = \"\"\" \n",
        "   However, there was a time when Ranbir 39 wanted to move out of his parents' \n",
        "   home located in Bandra but was hesitant to inform his parents about the same.\n",
        "    His mom insisted that the actor should move out and live life on his terms. \n",
        "    Back in 2015, during an interaction, the 'Sanju' star said that he always wanted to live alone. \n",
        "    but it was actually his mother's idea. She told him that he had been in his father's house for too long.\n",
        "     Of course, in India, there is a certain tradition where the family stays together, but she really wanted him\n",
        "      to experience life on his own. At present, the actor stays in his own bachelor house.\n",
        "\"\"\"\n"
      ],
      "execution_count": 0,
      "outputs": []
    },
    {
      "cell_type": "code",
      "metadata": {
        "id": "2t2Tli6ky-EV",
        "colab_type": "code",
        "outputId": "0f916bdd-9218-42e4-af95-1333c28bb030",
        "colab": {
          "base_uri": "https://localhost:8080/",
          "height": 54
        }
      },
      "source": [
        "text = re.sub(r'\\[[0-9]*\\]','', paragraph)\n",
        "text = re.sub(r'\\s+',' ', text)\n",
        "text = text.lower()\n",
        "text = re.sub(r'\\d', '', text)\n",
        "#text = re.sub(r'\\s+','',text)\n",
        "print(text)"
      ],
      "execution_count": 72,
      "outputs": [
        {
          "output_type": "stream",
          "text": [
            " however, there was a time when ranbir  wanted to move out of his parents' home located in bandra but was hesitant to inform his parents about the same. his mom insisted that the actor should move out and live life on his terms. back in , during an interaction, the 'sanju' star said that he always wanted to live alone. but it was actually his mother's idea. she told him that he had been in his father's house for too long. of course, in india, there is a certain tradition where the family stays together, but she really wanted him to experience life on his own. at present, the actor stays in his own bachelor house. \n"
          ],
          "name": "stdout"
        }
      ]
    },
    {
      "cell_type": "code",
      "metadata": {
        "id": "0NfwTBprzWUl",
        "colab_type": "code",
        "outputId": "ce94dd8d-3f6c-433c-b22c-c934168fff1e",
        "colab": {
          "base_uri": "https://localhost:8080/",
          "height": 54
        }
      },
      "source": [
        "sentences = nltk.sent_tokenize(text)\n",
        "print(sentences)"
      ],
      "execution_count": 73,
      "outputs": [
        {
          "output_type": "stream",
          "text": [
            "[\" however, there was a time when ranbir  wanted to move out of his parents' home located in bandra but was hesitant to inform his parents about the same.\", 'his mom insisted that the actor should move out and live life on his terms.', \"back in , during an interaction, the 'sanju' star said that he always wanted to live alone.\", \"but it was actually his mother's idea.\", \"she told him that he had been in his father's house for too long.\", 'of course, in india, there is a certain tradition where the family stays together, but she really wanted him to experience life on his own.', 'at present, the actor stays in his own bachelor house.']\n"
          ],
          "name": "stdout"
        }
      ]
    },
    {
      "cell_type": "code",
      "metadata": {
        "id": "D_juGaIfzXLt",
        "colab_type": "code",
        "colab": {}
      },
      "source": [
        "sentences = [nltk.word_tokenize(sentence) for sentence in sentences]"
      ],
      "execution_count": 0,
      "outputs": []
    },
    {
      "cell_type": "code",
      "metadata": {
        "id": "J3oAmnv710Vd",
        "colab_type": "code",
        "outputId": "16c17104-0d13-43a7-aba6-4c13b5eea74a",
        "colab": {
          "base_uri": "https://localhost:8080/",
          "height": 1000
        }
      },
      "source": [
        "sentences"
      ],
      "execution_count": 75,
      "outputs": [
        {
          "output_type": "execute_result",
          "data": {
            "text/plain": [
              "[['however',\n",
              "  ',',\n",
              "  'there',\n",
              "  'was',\n",
              "  'a',\n",
              "  'time',\n",
              "  'when',\n",
              "  'ranbir',\n",
              "  'wanted',\n",
              "  'to',\n",
              "  'move',\n",
              "  'out',\n",
              "  'of',\n",
              "  'his',\n",
              "  'parents',\n",
              "  \"'\",\n",
              "  'home',\n",
              "  'located',\n",
              "  'in',\n",
              "  'bandra',\n",
              "  'but',\n",
              "  'was',\n",
              "  'hesitant',\n",
              "  'to',\n",
              "  'inform',\n",
              "  'his',\n",
              "  'parents',\n",
              "  'about',\n",
              "  'the',\n",
              "  'same',\n",
              "  '.'],\n",
              " ['his',\n",
              "  'mom',\n",
              "  'insisted',\n",
              "  'that',\n",
              "  'the',\n",
              "  'actor',\n",
              "  'should',\n",
              "  'move',\n",
              "  'out',\n",
              "  'and',\n",
              "  'live',\n",
              "  'life',\n",
              "  'on',\n",
              "  'his',\n",
              "  'terms',\n",
              "  '.'],\n",
              " ['back',\n",
              "  'in',\n",
              "  ',',\n",
              "  'during',\n",
              "  'an',\n",
              "  'interaction',\n",
              "  ',',\n",
              "  'the',\n",
              "  \"'sanju\",\n",
              "  \"'\",\n",
              "  'star',\n",
              "  'said',\n",
              "  'that',\n",
              "  'he',\n",
              "  'always',\n",
              "  'wanted',\n",
              "  'to',\n",
              "  'live',\n",
              "  'alone',\n",
              "  '.'],\n",
              " ['but', 'it', 'was', 'actually', 'his', 'mother', \"'s\", 'idea', '.'],\n",
              " ['she',\n",
              "  'told',\n",
              "  'him',\n",
              "  'that',\n",
              "  'he',\n",
              "  'had',\n",
              "  'been',\n",
              "  'in',\n",
              "  'his',\n",
              "  'father',\n",
              "  \"'s\",\n",
              "  'house',\n",
              "  'for',\n",
              "  'too',\n",
              "  'long',\n",
              "  '.'],\n",
              " ['of',\n",
              "  'course',\n",
              "  ',',\n",
              "  'in',\n",
              "  'india',\n",
              "  ',',\n",
              "  'there',\n",
              "  'is',\n",
              "  'a',\n",
              "  'certain',\n",
              "  'tradition',\n",
              "  'where',\n",
              "  'the',\n",
              "  'family',\n",
              "  'stays',\n",
              "  'together',\n",
              "  ',',\n",
              "  'but',\n",
              "  'she',\n",
              "  'really',\n",
              "  'wanted',\n",
              "  'him',\n",
              "  'to',\n",
              "  'experience',\n",
              "  'life',\n",
              "  'on',\n",
              "  'his',\n",
              "  'own',\n",
              "  '.'],\n",
              " ['at',\n",
              "  'present',\n",
              "  ',',\n",
              "  'the',\n",
              "  'actor',\n",
              "  'stays',\n",
              "  'in',\n",
              "  'his',\n",
              "  'own',\n",
              "  'bachelor',\n",
              "  'house',\n",
              "  '.']]"
            ]
          },
          "metadata": {
            "tags": []
          },
          "execution_count": 75
        }
      ]
    },
    {
      "cell_type": "code",
      "metadata": {
        "id": "erzpARcY2KWj",
        "colab_type": "code",
        "colab": {}
      },
      "source": [
        "for i in range(len(sentences)):\n",
        "  sentences[i] = [word for word in sentences[i] if word in stopwords.words('english')]"
      ],
      "execution_count": 0,
      "outputs": []
    },
    {
      "cell_type": "code",
      "metadata": {
        "id": "KaFGkJty2dDG",
        "colab_type": "code",
        "colab": {}
      },
      "source": [
        "model = Word2Vec(sentences, min_count=1)"
      ],
      "execution_count": 0,
      "outputs": []
    },
    {
      "cell_type": "code",
      "metadata": {
        "id": "iwsCRIpS2tyR",
        "colab_type": "code",
        "colab": {}
      },
      "source": [
        "words = model.wv.vocab"
      ],
      "execution_count": 0,
      "outputs": []
    },
    {
      "cell_type": "code",
      "metadata": {
        "id": "klZGret74rsc",
        "colab_type": "code",
        "outputId": "2daddd40-e3ee-46a3-c429-3c9e798337ee",
        "colab": {
          "base_uri": "https://localhost:8080/",
          "height": 544
        }
      },
      "source": [
        "words"
      ],
      "execution_count": 79,
      "outputs": [
        {
          "output_type": "execute_result",
          "data": {
            "text/plain": [
              "{'a': <gensim.models.keyedvectors.Vocab at 0x7f9936ffaa58>,\n",
              " 'about': <gensim.models.keyedvectors.Vocab at 0x7f9934848208>,\n",
              " 'an': <gensim.models.keyedvectors.Vocab at 0x7f9934848f28>,\n",
              " 'and': <gensim.models.keyedvectors.Vocab at 0x7f9934848898>,\n",
              " 'at': <gensim.models.keyedvectors.Vocab at 0x7f993686c1d0>,\n",
              " 'been': <gensim.models.keyedvectors.Vocab at 0x7f993686c588>,\n",
              " 'but': <gensim.models.keyedvectors.Vocab at 0x7f9934848470>,\n",
              " 'during': <gensim.models.keyedvectors.Vocab at 0x7f9934848a58>,\n",
              " 'for': <gensim.models.keyedvectors.Vocab at 0x7f993686ccc0>,\n",
              " 'had': <gensim.models.keyedvectors.Vocab at 0x7f993686cc50>,\n",
              " 'he': <gensim.models.keyedvectors.Vocab at 0x7f9934848a20>,\n",
              " 'him': <gensim.models.keyedvectors.Vocab at 0x7f993686c898>,\n",
              " 'his': <gensim.models.keyedvectors.Vocab at 0x7f99348486a0>,\n",
              " 'in': <gensim.models.keyedvectors.Vocab at 0x7f99348484e0>,\n",
              " 'is': <gensim.models.keyedvectors.Vocab at 0x7f993686c748>,\n",
              " 'it': <gensim.models.keyedvectors.Vocab at 0x7f9934848da0>,\n",
              " 'of': <gensim.models.keyedvectors.Vocab at 0x7f99348480f0>,\n",
              " 'on': <gensim.models.keyedvectors.Vocab at 0x7f9934848860>,\n",
              " 'out': <gensim.models.keyedvectors.Vocab at 0x7f9934848438>,\n",
              " 'own': <gensim.models.keyedvectors.Vocab at 0x7f993686c0b8>,\n",
              " 'same': <gensim.models.keyedvectors.Vocab at 0x7f99348481d0>,\n",
              " 'she': <gensim.models.keyedvectors.Vocab at 0x7f9934848588>,\n",
              " 'should': <gensim.models.keyedvectors.Vocab at 0x7f9934848940>,\n",
              " 'that': <gensim.models.keyedvectors.Vocab at 0x7f9934848630>,\n",
              " 'the': <gensim.models.keyedvectors.Vocab at 0x7f9934848080>,\n",
              " 'there': <gensim.models.keyedvectors.Vocab at 0x7f9936ffae10>,\n",
              " 'to': <gensim.models.keyedvectors.Vocab at 0x7f99348489b0>,\n",
              " 'too': <gensim.models.keyedvectors.Vocab at 0x7f993686c908>,\n",
              " 'was': <gensim.models.keyedvectors.Vocab at 0x7f9936ffa3c8>,\n",
              " 'when': <gensim.models.keyedvectors.Vocab at 0x7f9934848be0>,\n",
              " 'where': <gensim.models.keyedvectors.Vocab at 0x7f993686c6d8>}"
            ]
          },
          "metadata": {
            "tags": []
          },
          "execution_count": 79
        }
      ]
    },
    {
      "cell_type": "code",
      "metadata": {
        "id": "3M7-6DUG4s3z",
        "colab_type": "code",
        "outputId": "208b3e2d-4d86-4b25-b382-73bfa357459e",
        "colab": {
          "base_uri": "https://localhost:8080/",
          "height": 442
        }
      },
      "source": [
        "vector = model.wv['during']\n",
        "print(vector)"
      ],
      "execution_count": 80,
      "outputs": [
        {
          "output_type": "stream",
          "text": [
            "[-4.5526423e-03  4.0520108e-03 -5.8395480e-04  3.4463480e-03\n",
            " -4.6613445e-03  1.6220923e-03  3.9752088e-03  3.6116266e-03\n",
            " -2.7895002e-03  8.9846662e-04  2.2109665e-03  4.0527401e-04\n",
            "  1.4170912e-03  2.2447906e-03 -2.1771255e-03  4.3287943e-03\n",
            " -5.2616069e-05 -1.5710309e-03  8.0361136e-04 -3.3172490e-03\n",
            "  4.5624055e-04 -2.0382623e-03 -3.2722729e-03 -2.1282032e-03\n",
            "  8.0257037e-04  2.8703909e-03 -1.8522663e-03  3.9180904e-03\n",
            "  4.7399401e-04  1.4890378e-04  3.1775307e-05 -3.5512038e-03\n",
            "  1.1448800e-03  3.2482871e-03 -3.1811760e-03  1.9384947e-03\n",
            " -1.5589234e-03  2.5614214e-03 -3.2168860e-03  2.7465257e-03\n",
            "  8.5987244e-04  2.5482366e-03  2.0078814e-03  4.2432155e-03\n",
            "  4.5981687e-03 -3.2074456e-03  1.5362975e-03  2.6014058e-03\n",
            " -2.8180790e-03  3.2090440e-03  2.2360298e-03 -2.2776683e-03\n",
            "  1.7132972e-04 -8.1859960e-04  3.1967945e-03  4.1934010e-03\n",
            " -2.3080439e-03 -3.1811877e-03 -4.9038222e-03  2.8127793e-03\n",
            " -4.2370437e-03 -1.7541918e-03 -8.8123261e-04 -7.7933195e-04\n",
            " -1.4674534e-04  1.9931428e-03  3.1361179e-03  2.0863526e-03\n",
            " -1.2142407e-03  6.9826614e-04  3.6095167e-03 -7.2031794e-04\n",
            " -1.6311548e-03  1.5133056e-03 -3.3271420e-03  3.9806729e-03\n",
            "  2.2369069e-03 -3.8716826e-03  2.2075552e-04  1.8335066e-03\n",
            " -3.3195810e-03 -2.8346138e-04 -1.5471395e-03  1.6166180e-03\n",
            "  4.5783582e-04 -1.3784899e-03  1.7931090e-04 -2.8627701e-03\n",
            " -2.8239314e-03 -2.2501480e-03  1.4129623e-03  2.6542696e-03\n",
            " -8.9954707e-04  2.0480415e-04 -2.2017232e-03  4.0669274e-03\n",
            "  4.3934616e-03  1.5846208e-03 -1.0716271e-03 -3.0240151e-03]\n"
          ],
          "name": "stdout"
        }
      ]
    },
    {
      "cell_type": "code",
      "metadata": {
        "id": "xI-lKR0E4zPQ",
        "colab_type": "code",
        "outputId": "f359cb7c-e197-4aa6-f071-011603beafdf",
        "colab": {
          "base_uri": "https://localhost:8080/",
          "height": 71
        }
      },
      "source": [
        "similar = model.wv.most_similar('she')"
      ],
      "execution_count": 81,
      "outputs": [
        {
          "output_type": "stream",
          "text": [
            "/usr/local/lib/python3.6/dist-packages/gensim/matutils.py:737: FutureWarning: Conversion of the second argument of issubdtype from `int` to `np.signedinteger` is deprecated. In future, it will be treated as `np.int64 == np.dtype(int).type`.\n",
            "  if np.issubdtype(vec.dtype, np.int):\n"
          ],
          "name": "stderr"
        }
      ]
    },
    {
      "cell_type": "code",
      "metadata": {
        "id": "cX280riO5yFA",
        "colab_type": "code",
        "outputId": "8b3a25f7-152d-4ea0-edfa-e380261f43dd",
        "colab": {
          "base_uri": "https://localhost:8080/",
          "height": 187
        }
      },
      "source": [
        "similar"
      ],
      "execution_count": 82,
      "outputs": [
        {
          "output_type": "execute_result",
          "data": {
            "text/plain": [
              "[('out', 0.21536056697368622),\n",
              " ('but', 0.20526942610740662),\n",
              " ('about', 0.14674118161201477),\n",
              " ('there', 0.11616577208042145),\n",
              " ('is', 0.1130809634923935),\n",
              " ('and', 0.1061353012919426),\n",
              " ('an', 0.08632472902536392),\n",
              " ('own', 0.07253242284059525),\n",
              " ('for', 0.06411117315292358),\n",
              " ('a', 0.05319109559059143)]"
            ]
          },
          "metadata": {
            "tags": []
          },
          "execution_count": 82
        }
      ]
    },
    {
      "cell_type": "code",
      "metadata": {
        "id": "eofKnhIr50oc",
        "colab_type": "code",
        "colab": {}
      },
      "source": [
        ""
      ],
      "execution_count": 0,
      "outputs": []
    }
  ]
}